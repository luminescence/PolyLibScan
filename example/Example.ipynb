{
 "cells": [
  {
   "cell_type": "markdown",
   "metadata": {},
   "source": [
    "## Get configuration files"
   ]
  },
  {
   "cell_type": "code",
   "execution_count": 4,
   "metadata": {},
   "outputs": [
    {
     "name": "stdout",
     "output_type": "stream",
     "text": [
      "Cloning into 'PolyLibScan_statics'...\n",
      "remote: Counting objects: 41, done.\u001b[K\n",
      "remote: Compressing objects: 100% (40/40), done.\u001b[K\n",
      "remote: Total 41 (delta 19), reused 0 (delta 0)\u001b[K\n",
      "Receiving objects: 100% (41/41), 321.01 KiB | 2.15 MiB/s, done.\n",
      "Resolving deltas: 100% (19/19), done.\n"
     ]
    }
   ],
   "source": [
    "!git clone gogs@132.252.170.166:Niklas/PolyLibScan_statics.git"
   ]
  },
  {
   "cell_type": "code",
   "execution_count": 1,
   "metadata": {},
   "outputs": [],
   "source": [
    "import PolyLibScan as pls\n",
    "import pathlib2 as pl"
   ]
  },
  {
   "cell_type": "code",
   "execution_count": 2,
   "metadata": {},
   "outputs": [],
   "source": [
    "config_folder = pl.Path('./PolyLibScan_statics/')"
   ]
  },
  {
   "cell_type": "code",
   "execution_count": 6,
   "metadata": {},
   "outputs": [],
   "source": [
    "import yaml"
   ]
  },
  {
   "cell_type": "code",
   "execution_count": 9,
   "metadata": {},
   "outputs": [],
   "source": [
    "with open('files/config.yml') as f:\n",
    "    dat = yaml.load(f)\n",
    "with open('files/config2.yml', 'w') as f:\n",
    "    yaml.dump(dat, f, default_flow_style=False)"
   ]
  },
  {
   "cell_type": "code",
   "execution_count": 10,
   "metadata": {},
   "outputs": [
    {
     "name": "stdout",
     "output_type": "stream",
     "text": [
      "fifo:\n",
      "  distance_fifo:\n",
      "    out: distance_as_polymer\n",
      "    path: distance.fifo\n",
      "    stepsize: 2000\n",
      "  traj_compression:\n",
      "    out: full_trajectory\n",
      "    path: traj.fifo\n",
      "    stepsize: 2000\n",
      "lammps_parameter:\n",
      "  dielectric_par: 1\n",
      "  output_interval: 2000\n",
      "  time_steps: 20000\n",
      "  timestep: 10\n",
      "lammps_path:\n",
      "  fifo: /tmp/tmpRnvuAf\n",
      "  input: LocalSimRun/jobs/abcd/input\n",
      "  local_root: LocalSimRun/jobs/abcd\n",
      "  logs: LocalSimRun/jobs/abcd/logs\n",
      "  output: LocalSimRun/jobs/abcd/output\n",
      "  root: LocalSimRun/jobs/abcd\n",
      "sim_parameter:\n",
      "  local: 1\n",
      "  pH: 4.0\n",
      "  poly_length: 30\n",
      "  protein: 1LYA\n",
      "  protein_name: CathepsinD\n",
      "  sampling_rate: 20\n",
      "  stoichiometry:\n",
      "  - 1\n",
      "  - 1\n"
     ]
    }
   ],
   "source": [
    "!cat 'files/config2.yml'"
   ]
  },
  {
   "cell_type": "code",
   "execution_count": 13,
   "metadata": {},
   "outputs": [
    {
     "ename": "AttributeError",
     "evalue": "'module' object has no attribute '__main__'",
     "output_type": "error",
     "traceback": [
      "\u001b[0;31m---------------------------------------------------------------------------\u001b[0m",
      "\u001b[0;31mAttributeError\u001b[0m                            Traceback (most recent call last)",
      "\u001b[0;32m<ipython-input-13-15994c12ab2a>\u001b[0m in \u001b[0;36m<module>\u001b[0;34m()\u001b[0m\n\u001b[0;32m----> 1\u001b[0;31m \u001b[0mpls\u001b[0m\u001b[0;34m.\u001b[0m\u001b[0m__main__\u001b[0m\u001b[0;34m\u001b[0m\u001b[0m\n\u001b[0m",
      "\u001b[0;31mAttributeError\u001b[0m: 'module' object has no attribute '__main__'"
     ]
    }
   ],
   "source": [
    "pls.job.run_with_config('files/config.yml')"
   ]
  },
  {
   "cell_type": "code",
   "execution_count": null,
   "metadata": {},
   "outputs": [],
   "source": []
  }
 ],
 "metadata": {
  "kernelspec": {
   "display_name": "Python [conda root]",
   "language": "python",
   "name": "conda-root-py"
  },
  "language_info": {
   "codemirror_mode": {
    "name": "ipython",
    "version": 2
   },
   "file_extension": ".py",
   "mimetype": "text/x-python",
   "name": "python",
   "nbconvert_exporter": "python",
   "pygments_lexer": "ipython2",
   "version": "2.7.13"
  }
 },
 "nbformat": 4,
 "nbformat_minor": 2
}
